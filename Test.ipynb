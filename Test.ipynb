{
 "cells": [
  {
   "cell_type": "code",
   "execution_count": 2,
   "metadata": {},
   "outputs": [
    {
     "name": "stdout",
     "output_type": "stream",
     "text": [
      "97958\n",
      "98816\n",
      "98819\n",
      "98820\n",
      "114810\n",
      "120650\n",
      "133840\n",
      "138304\n"
     ]
    }
   ],
   "source": [
    "from API.RateMyProfApi import RateMyProfApi\n",
    "RMP = RateMyProfApi()\n",
    "\n",
    "school = RMP.get_school_by_name(\"The University of Texas at Dallas\")\n",
    "Profs = RMP.get_professors_by_school_and_name(school, \"\") \n",
    "for prof in Profs:\n",
    "    print(prof.id)"
   ]
  }
 ],
 "metadata": {
  "kernelspec": {
   "display_name": "Python 3",
   "language": "python",
   "name": "python3"
  },
  "language_info": {
   "codemirror_mode": {
    "name": "ipython",
    "version": 3
   },
   "file_extension": ".py",
   "mimetype": "text/x-python",
   "name": "python",
   "nbconvert_exporter": "python",
   "pygments_lexer": "ipython3",
   "version": "3.10.11"
  }
 },
 "nbformat": 4,
 "nbformat_minor": 2
}
