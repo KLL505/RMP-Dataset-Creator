{
 "cells": [
  {
   "cell_type": "code",
   "execution_count": 41,
   "metadata": {},
   "outputs": [
    {
     "name": "stdout",
     "output_type": "stream",
     "text": [
      "<API.school.School object at 0x0000020B5D38E2F0>\n"
     ]
    }
   ],
   "source": [
    "from API.RateMyProfApi import RateMyProfApi\n",
    "\n",
    "RMP = RateMyProfApi()\n",
    "school = RMP.get_school_by_name(\"The University of Texas at Dallas\")\n",
    "#Profs = RMP.get_professors_by_school_and_name(school, \"\") \n",
    "print(school)\n"
   ]
  }
 ],
 "metadata": {
  "kernelspec": {
   "display_name": "Python 3",
   "language": "python",
   "name": "python3"
  },
  "language_info": {
   "codemirror_mode": {
    "name": "ipython",
    "version": 3
   },
   "file_extension": ".py",
   "mimetype": "text/x-python",
   "name": "python",
   "nbconvert_exporter": "python",
   "pygments_lexer": "ipython3",
   "version": "3.10.11"
  }
 },
 "nbformat": 4,
 "nbformat_minor": 2
}
